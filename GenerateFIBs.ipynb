{
  "nbformat": 4,
  "nbformat_minor": 0,
  "metadata": {
    "colab": {
      "name": "GenerateFIBs.ipynb",
      "provenance": []
    },
    "kernelspec": {
      "name": "python3",
      "display_name": "Python 3"
    },
    "language_info": {
      "name": "python"
    },
    "accelerator": "GPU"
  },
  "cells": [
    {
      "cell_type": "code",
      "metadata": {
        "colab": {
          "base_uri": "https://localhost:8080/"
        },
        "id": "JpVdWeYvvgtW",
        "outputId": "0d2c238f-870b-405a-fe13-c6980cf7bc0b"
      },
      "source": [
        "!pip install --quiet git+https://github.com/boudinfl/pke.git@dc4d5f21e0ffe64c4df93c46146d29d1c522476b\n",
        "!pip install --quiet flashtext==2.7"
      ],
      "execution_count": 1,
      "outputs": [
        {
          "output_type": "stream",
          "text": [
            "\u001b[?25l\r\u001b[K     |█▍                              | 10kB 26.4MB/s eta 0:00:01\r\u001b[K     |██▊                             | 20kB 34.0MB/s eta 0:00:01\r\u001b[K     |████                            | 30kB 22.4MB/s eta 0:00:01\r\u001b[K     |█████▍                          | 40kB 17.8MB/s eta 0:00:01\r\u001b[K     |██████▉                         | 51kB 10.7MB/s eta 0:00:01\r\u001b[K     |████████▏                       | 61kB 12.1MB/s eta 0:00:01\r\u001b[K     |█████████▌                      | 71kB 10.6MB/s eta 0:00:01\r\u001b[K     |██████████▉                     | 81kB 11.7MB/s eta 0:00:01\r\u001b[K     |████████████▏                   | 92kB 12.0MB/s eta 0:00:01\r\u001b[K     |█████████████▋                  | 102kB 10.1MB/s eta 0:00:01\r\u001b[K     |███████████████                 | 112kB 10.1MB/s eta 0:00:01\r\u001b[K     |████████████████▎               | 122kB 10.1MB/s eta 0:00:01\r\u001b[K     |█████████████████▋              | 133kB 10.1MB/s eta 0:00:01\r\u001b[K     |███████████████████             | 143kB 10.1MB/s eta 0:00:01\r\u001b[K     |████████████████████▍           | 153kB 10.1MB/s eta 0:00:01\r\u001b[K     |█████████████████████▊          | 163kB 10.1MB/s eta 0:00:01\r\u001b[K     |███████████████████████         | 174kB 10.1MB/s eta 0:00:01\r\u001b[K     |████████████████████████▍       | 184kB 10.1MB/s eta 0:00:01\r\u001b[K     |█████████████████████████▊      | 194kB 10.1MB/s eta 0:00:01\r\u001b[K     |███████████████████████████▏    | 204kB 10.1MB/s eta 0:00:01\r\u001b[K     |████████████████████████████▌   | 215kB 10.1MB/s eta 0:00:01\r\u001b[K     |█████████████████████████████▉  | 225kB 10.1MB/s eta 0:00:01\r\u001b[K     |███████████████████████████████▏| 235kB 10.1MB/s eta 0:00:01\r\u001b[K     |████████████████████████████████| 245kB 10.1MB/s \n",
            "\u001b[?25h  Building wheel for pke (setup.py) ... \u001b[?25l\u001b[?25hdone\n",
            "  Building wheel for flashtext (setup.py) ... \u001b[?25l\u001b[?25hdone\n"
          ],
          "name": "stdout"
        }
      ]
    },
    {
      "cell_type": "code",
      "metadata": {
        "colab": {
          "base_uri": "https://localhost:8080/"
        },
        "id": "q6R6mcJgvmXT",
        "outputId": "781389e3-5064-46c1-f0d3-42368e6a00bf"
      },
      "source": [
        "import textwrap\n",
        "text = \"\"\"There is a lot of volcanic activity at divergent plate boundaries in the oceans. For example, many undersea volcanoes are found along the Mid-Atlantic Ridge. This is a divergent plate boundary that runs north-south through the middle of the Atlantic Ocean. As tectonic plates pull away from each other at a divergent plate boundary, they create deep fissures, or cracks, in the crust. Molten rock, called magma, erupts through these cracks onto Earth’s surface. At the surface, the molten rock is called lava. It cools and hardens, forming rock. Divergent plate boundaries also occur in the continental crust. Volcanoes form at these boundaries, but less often than in ocean crust. That’s because continental crust is thicker than oceanic crust. This makes it more difficult for molten rock to push up through the crust. Many volcanoes form along convergent plate boundaries where one tectonic plate is pulled down beneath another at a subduction zone. The leading edge of the plate melts as it is pulled into the mantle, forming magma that erupts as volcanoes. When a line of volcanoes forms along a subduction zone, they make up a volcanic arc. The edges of the Pacific plate are long subduction zones lined with volcanoes. This is why the Pacific rim is called the “Pacific Ring of Fire.”\"\"\"\n",
        "\n",
        "wrapper = textwrap.TextWrapper(width=150)\n",
        "word_list = wrapper.wrap(text=text)\n",
        "for element in word_list: \n",
        "  print(element) "
      ],
      "execution_count": 2,
      "outputs": [
        {
          "output_type": "stream",
          "text": [
            "There is a lot of volcanic activity at divergent plate boundaries in the oceans. For example, many undersea volcanoes are found along the Mid-Atlantic\n",
            "Ridge. This is a divergent plate boundary that runs north-south through the middle of the Atlantic Ocean. As tectonic plates pull away from each other\n",
            "at a divergent plate boundary, they create deep fissures, or cracks, in the crust. Molten rock, called magma, erupts through these cracks onto Earth’s\n",
            "surface. At the surface, the molten rock is called lava. It cools and hardens, forming rock. Divergent plate boundaries also occur in the continental\n",
            "crust. Volcanoes form at these boundaries, but less often than in ocean crust. That’s because continental crust is thicker than oceanic crust. This\n",
            "makes it more difficult for molten rock to push up through the crust. Many volcanoes form along convergent plate boundaries where one tectonic plate\n",
            "is pulled down beneath another at a subduction zone. The leading edge of the plate melts as it is pulled into the mantle, forming magma that erupts as\n",
            "volcanoes. When a line of volcanoes forms along a subduction zone, they make up a volcanic arc. The edges of the Pacific plate are long subduction\n",
            "zones lined with volcanoes. This is why the Pacific rim is called the “Pacific Ring of Fire.”\n"
          ],
          "name": "stdout"
        }
      ]
    },
    {
      "cell_type": "code",
      "metadata": {
        "colab": {
          "base_uri": "https://localhost:8080/"
        },
        "id": "fajHI5ToxRJ_",
        "outputId": "e0e7e192-014d-4673-e1fe-f5ef39926faf"
      },
      "source": [
        "import json\n",
        "import requests\n",
        "import string\n",
        "import re\n",
        "import nltk\n",
        "import string\n",
        "import itertools\n",
        "nltk.download('stopwords')\n",
        "nltk.download('wordnet')\n",
        "nltk.download('punkt')\n",
        "import pke\n",
        "from nltk.corpus import stopwords\n",
        "from nltk.corpus import wordnet\n",
        "import traceback\n",
        "from nltk.tokenize import sent_tokenize\n",
        "from flashtext import KeywordProcessor\n"
      ],
      "execution_count": 3,
      "outputs": [
        {
          "output_type": "stream",
          "text": [
            "[nltk_data] Downloading package stopwords to /root/nltk_data...\n",
            "[nltk_data]   Unzipping corpora/stopwords.zip.\n",
            "[nltk_data] Downloading package wordnet to /root/nltk_data...\n",
            "[nltk_data]   Unzipping corpora/wordnet.zip.\n",
            "[nltk_data] Downloading package punkt to /root/nltk_data...\n",
            "[nltk_data]   Unzipping tokenizers/punkt.zip.\n"
          ],
          "name": "stdout"
        }
      ]
    },
    {
      "cell_type": "code",
      "metadata": {
        "colab": {
          "base_uri": "https://localhost:8080/"
        },
        "id": "zEJeGUvLyMw-",
        "outputId": "120bbb27-e7f2-4dd7-c87f-70ed7cefefc4"
      },
      "source": [
        "def tokenize_sentences(text):\n",
        "    sentences = sent_tokenize(text)\n",
        "    sentences = [sentence.strip() for sentence in sentences if len(sentence) > 20]\n",
        "    return sentences\n",
        "\n",
        "sentences = tokenize_sentences(text)\n",
        "print (sentences)"
      ],
      "execution_count": 4,
      "outputs": [
        {
          "output_type": "stream",
          "text": [
            "['There is a lot of volcanic activity at divergent plate boundaries in the oceans.', 'For example, many undersea volcanoes are found along the Mid-Atlantic Ridge.', 'This is a divergent plate boundary that runs north-south through the middle of the Atlantic Ocean.', 'As tectonic plates pull away from each other at a divergent plate boundary, they create deep fissures, or cracks, in the crust.', 'Molten rock, called magma, erupts through these cracks onto Earth’s surface.', 'At the surface, the molten rock is called lava.', 'It cools and hardens, forming rock.', 'Divergent plate boundaries also occur in the continental crust.', 'Volcanoes form at these boundaries, but less often than in ocean crust.', 'That’s because continental crust is thicker than oceanic crust.', 'This makes it more difficult for molten rock to push up through the crust.', 'Many volcanoes form along convergent plate boundaries where one tectonic plate is pulled down beneath another at a subduction zone.', 'The leading edge of the plate melts as it is pulled into the mantle, forming magma that erupts as volcanoes.', 'When a line of volcanoes forms along a subduction zone, they make up a volcanic arc.', 'The edges of the Pacific plate are long subduction zones lined with volcanoes.', 'This is why the Pacific rim is called the “Pacific Ring of Fire.”']\n"
          ],
          "name": "stdout"
        }
      ]
    },
    {
      "cell_type": "code",
      "metadata": {
        "colab": {
          "base_uri": "https://localhost:8080/"
        },
        "id": "5OuZk10Gyw2A",
        "outputId": "538b9ed6-05bf-44d3-aad0-6cbf1a51f5e7"
      },
      "source": [
        "\n",
        "def get_noun_adj_verb(text):\n",
        "    out=[]\n",
        "    try:\n",
        "        extractor = pke.unsupervised.MultipartiteRank()\n",
        "        extractor.load_document(input=text)\n",
        "        pos = {'VERB', 'ADJ', 'NOUN'}\n",
        "        stoplist = list(string.punctuation)\n",
        "        stoplist += ['-lrb-', '-rrb-', '-lcb-', '-rcb-', '-lsb-', '-rsb-']\n",
        "        stoplist += stopwords.words('english')\n",
        "        extractor.candidate_selection(pos=pos, stoplist=stoplist)\n",
        "       \n",
        "        extractor.candidate_weighting(alpha=1.1,\n",
        "                                      threshold=0.75,\n",
        "                                      method='average')\n",
        "        keyphrases = extractor.get_n_best(n=30)\n",
        "        \n",
        "\n",
        "        for val in keyphrases:\n",
        "            out.append(val[0])\n",
        "    except:\n",
        "        out = []\n",
        "        traceback.print_exc()\n",
        "\n",
        "    return out\n",
        "\n",
        "noun_verbs_adj = get_noun_adj_verb(text)\n",
        "print (\"keywords: \",noun_verbs_adj)"
      ],
      "execution_count": 5,
      "outputs": [
        {
          "output_type": "stream",
          "text": [
            "keywords:  ['divergent plate boundaries', 'many undersea volcanoes', 'crust', 'oceans', 'molten rock', 'tectonic plates pull', 'called', 'example', 'volcanic activity', 'cracks', 'found', 'forming rock', 'surface', 'subduction zone', 'erupts', 'continental crust', 'volcanoes form', 'ocean crust', 'runs', 'makes', 'pulled', 'lot', 'south', 'leading edge', 'hardens', 'middle', 'earth', 'create deep fissures', 'cools', 'volcanoes']\n"
          ],
          "name": "stdout"
        }
      ]
    },
    {
      "cell_type": "code",
      "metadata": {
        "colab": {
          "base_uri": "https://localhost:8080/"
        },
        "id": "ktoVGDEh6_Iy",
        "outputId": "1c9c3129-0ca5-49c0-9086-62f2d65615c9"
      },
      "source": [
        "from pprint import pprint\n",
        "def get_sentences_from_keywords(keywords,sentences):\n",
        "  keyword_processor = KeywordProcessor()\n",
        "  keyword_sentences = {}\n",
        "  for word in keywords:\n",
        "    keyword_sentences[word] = []\n",
        "    keyword_processor.add_keyword(word)\n",
        "  for sentence in sentences:\n",
        "    keywords_found = keyword_processor.extract_keywords(sentence)\n",
        "    for key in keywords_found:\n",
        "      keyword_sentences[key].append(sentence)\n",
        "  for key in keyword_sentences.keys():\n",
        "    values = keyword_sentences[key]\n",
        "    values = sorted(values,key=len,reverse=True)\n",
        "    keyword_sentences[key] =values\n",
        "  return keyword_sentences\n",
        "\n",
        "keyword_sentence_mapping_noun_verb_adj = get_sentences_from_keywords(noun_verbs_adj,sentences)\n",
        "pprint(keyword_sentence_mapping_noun_verb_adj)"
      ],
      "execution_count": 6,
      "outputs": [
        {
          "output_type": "stream",
          "text": [
            "{'called': ['Molten rock, called magma, erupts through these cracks onto '\n",
            "            'Earth’s surface.',\n",
            "            'This is why the Pacific rim is called the “Pacific Ring of Fire.”',\n",
            "            'At the surface, the molten rock is called lava.'],\n",
            " 'continental crust': ['Divergent plate boundaries also occur in the '\n",
            "                       'continental crust.',\n",
            "                       'That’s because continental crust is thicker than '\n",
            "                       'oceanic crust.'],\n",
            " 'cools': ['It cools and hardens, forming rock.'],\n",
            " 'cracks': ['As tectonic plates pull away from each other at a divergent plate '\n",
            "            'boundary, they create deep fissures, or cracks, in the crust.',\n",
            "            'Molten rock, called magma, erupts through these cracks onto '\n",
            "            'Earth’s surface.'],\n",
            " 'create deep fissures': ['As tectonic plates pull away from each other at a '\n",
            "                          'divergent plate boundary, they create deep '\n",
            "                          'fissures, or cracks, in the crust.'],\n",
            " 'crust': ['As tectonic plates pull away from each other at a divergent plate '\n",
            "           'boundary, they create deep fissures, or cracks, in the crust.',\n",
            "           'This makes it more difficult for molten rock to push up through '\n",
            "           'the crust.',\n",
            "           'That’s because continental crust is thicker than oceanic crust.'],\n",
            " 'divergent plate boundaries': ['There is a lot of volcanic activity at '\n",
            "                                'divergent plate boundaries in the oceans.',\n",
            "                                'Divergent plate boundaries also occur in the '\n",
            "                                'continental crust.'],\n",
            " 'earth': ['Molten rock, called magma, erupts through these cracks onto '\n",
            "           'Earth’s surface.'],\n",
            " 'erupts': ['The leading edge of the plate melts as it is pulled into the '\n",
            "            'mantle, forming magma that erupts as volcanoes.',\n",
            "            'Molten rock, called magma, erupts through these cracks onto '\n",
            "            'Earth’s surface.'],\n",
            " 'example': ['For example, many undersea volcanoes are found along the '\n",
            "             'Mid-Atlantic Ridge.'],\n",
            " 'forming rock': ['It cools and hardens, forming rock.'],\n",
            " 'found': ['For example, many undersea volcanoes are found along the '\n",
            "           'Mid-Atlantic Ridge.'],\n",
            " 'hardens': ['It cools and hardens, forming rock.'],\n",
            " 'leading edge': ['The leading edge of the plate melts as it is pulled into '\n",
            "                  'the mantle, forming magma that erupts as volcanoes.'],\n",
            " 'lot': ['There is a lot of volcanic activity at divergent plate boundaries in '\n",
            "         'the oceans.'],\n",
            " 'makes': ['This makes it more difficult for molten rock to push up through '\n",
            "           'the crust.'],\n",
            " 'many undersea volcanoes': ['For example, many undersea volcanoes are found '\n",
            "                             'along the Mid-Atlantic Ridge.'],\n",
            " 'middle': ['This is a divergent plate boundary that runs north-south through '\n",
            "            'the middle of the Atlantic Ocean.'],\n",
            " 'molten rock': ['Molten rock, called magma, erupts through these cracks onto '\n",
            "                 'Earth’s surface.',\n",
            "                 'This makes it more difficult for molten rock to push up '\n",
            "                 'through the crust.',\n",
            "                 'At the surface, the molten rock is called lava.'],\n",
            " 'ocean crust': ['Volcanoes form at these boundaries, but less often than in '\n",
            "                 'ocean crust.'],\n",
            " 'oceans': ['There is a lot of volcanic activity at divergent plate boundaries '\n",
            "            'in the oceans.'],\n",
            " 'pulled': ['Many volcanoes form along convergent plate boundaries where one '\n",
            "            'tectonic plate is pulled down beneath another at a subduction '\n",
            "            'zone.',\n",
            "            'The leading edge of the plate melts as it is pulled into the '\n",
            "            'mantle, forming magma that erupts as volcanoes.'],\n",
            " 'runs': ['This is a divergent plate boundary that runs north-south through '\n",
            "          'the middle of the Atlantic Ocean.'],\n",
            " 'south': ['This is a divergent plate boundary that runs north-south through '\n",
            "           'the middle of the Atlantic Ocean.'],\n",
            " 'subduction zone': ['Many volcanoes form along convergent plate boundaries '\n",
            "                     'where one tectonic plate is pulled down beneath another '\n",
            "                     'at a subduction zone.',\n",
            "                     'When a line of volcanoes forms along a subduction zone, '\n",
            "                     'they make up a volcanic arc.'],\n",
            " 'surface': ['Molten rock, called magma, erupts through these cracks onto '\n",
            "             'Earth’s surface.',\n",
            "             'At the surface, the molten rock is called lava.'],\n",
            " 'tectonic plates pull': ['As tectonic plates pull away from each other at a '\n",
            "                          'divergent plate boundary, they create deep '\n",
            "                          'fissures, or cracks, in the crust.'],\n",
            " 'volcanic activity': ['There is a lot of volcanic activity at divergent plate '\n",
            "                       'boundaries in the oceans.'],\n",
            " 'volcanoes': ['The leading edge of the plate melts as it is pulled into the '\n",
            "               'mantle, forming magma that erupts as volcanoes.',\n",
            "               'When a line of volcanoes forms along a subduction zone, they '\n",
            "               'make up a volcanic arc.',\n",
            "               'The edges of the Pacific plate are long subduction zones lined '\n",
            "               'with volcanoes.'],\n",
            " 'volcanoes form': ['Many volcanoes form along convergent plate boundaries '\n",
            "                    'where one tectonic plate is pulled down beneath another '\n",
            "                    'at a subduction zone.',\n",
            "                    'Volcanoes form at these boundaries, but less often than '\n",
            "                    'in ocean crust.']}\n"
          ],
          "name": "stdout"
        }
      ]
    },
    {
      "cell_type": "code",
      "metadata": {
        "id": "ewdp9fjHDQTc"
      },
      "source": [
        "def get_fill_in_the_blanks(sentence_mapping):\n",
        "  out = {'title':'Fill in the blanks for these sentences with matching words at the top'}\n",
        "  blank_sentences = []\n",
        "  processed = []\n",
        "  keys = []\n",
        "  for key in sentence_mapping:\n",
        "    if len(sentence_mapping)>0:\n",
        "      sent = sentence_mapping[key][0]\n",
        "      insensitive_sent = re.compile(re.escape(key),re.IGNORECASE)\n",
        "      no_of_replacements = len(re.findall(re.escape(key),sent,re.IGNORECASE))\n",
        "      line = insensitive_sent.sub('_______',sent)\n",
        "      if (sentence_mapping[key][0] not in processed) and no_of_replacements<2:\n",
        "        blank_sentences.append(line)\n",
        "        processed.append(sentence_mapping[key][0])\n",
        "        keys.append(key)\n",
        "        out['sentences'] = blank_sentences[:10]\n",
        "        out['keys'] = keys[:10]\n",
        "  \n",
        "  return out\n",
        "\n",
        "fill_in_the_blanks = get_fill_in_the_blanks(keyword_sentence_mapping_noun_verb_adj)"
      ],
      "execution_count": 7,
      "outputs": []
    },
    {
      "cell_type": "code",
      "metadata": {
        "colab": {
          "base_uri": "https://localhost:8080/"
        },
        "id": "DeBLYZygLnoI",
        "outputId": "d651cb3f-f078-4f84-f805-2a3e64951fa9"
      },
      "source": [
        "fill_in_the_blanks"
      ],
      "execution_count": 8,
      "outputs": [
        {
          "output_type": "execute_result",
          "data": {
            "text/plain": [
              "{'keys': ['divergent plate boundaries',\n",
              "  'many undersea volcanoes',\n",
              "  'crust',\n",
              "  'molten rock',\n",
              "  'forming rock',\n",
              "  'subduction zone',\n",
              "  'erupts',\n",
              "  'continental crust',\n",
              "  'ocean crust',\n",
              "  'runs'],\n",
              " 'sentences': ['There is a lot of volcanic activity at _______ in the oceans.',\n",
              "  'For example, _______ are found along the Mid-Atlantic Ridge.',\n",
              "  'As tectonic plates pull away from each other at a divergent plate boundary, they create deep fissures, or cracks, in the _______.',\n",
              "  '_______, called magma, erupts through these cracks onto Earth’s surface.',\n",
              "  'It cools and hardens, _______.',\n",
              "  'Many volcanoes form along convergent plate boundaries where one tectonic plate is pulled down beneath another at a _______.',\n",
              "  'The leading edge of the plate melts as it is pulled into the mantle, forming magma that _______ as volcanoes.',\n",
              "  'Divergent plate boundaries also occur in the _______.',\n",
              "  'Volcanoes form at these boundaries, but less often than in _______.',\n",
              "  'This is a divergent plate boundary that _______ north-south through the middle of the Atlantic Ocean.'],\n",
              " 'title': 'Fill in the blanks for these sentences with matching words at the top'}"
            ]
          },
          "metadata": {
            "tags": []
          },
          "execution_count": 8
        }
      ]
    },
    {
      "cell_type": "code",
      "metadata": {
        "colab": {
          "base_uri": "https://localhost:8080/",
          "height": 620
        },
        "id": "KO4N4HZOMJ-Y",
        "outputId": "614172e8-a2c9-4882-b5c9-4206da12dc36"
      },
      "source": [
        "from IPython.core.display import display, HTML\n",
        "import xml.etree.ElementTree as et\n",
        "import random\n",
        "\n",
        "root = et.Element(\"div\")\n",
        "\n",
        "heading = et.Element(\"h2\")\n",
        "heading.text = fill_in_the_blanks['title']\n",
        "\n",
        "keywords = et.Element(\"ul\")\n",
        "keywords.set('style', 'color:blue;')\n",
        "\n",
        "all_keys = fill_in_the_blanks['keys']\n",
        "random.shuffle(all_keys)\n",
        "for blank in all_keys:\n",
        "  child=et.Element(\"li\")\n",
        "  child.text = blank\n",
        "  keywords.append(child)\n",
        "\n",
        "sentences = et.Element(\"ol\")\n",
        "sentences.set('style', 'color:brown;')\n",
        "for sentence in fill_in_the_blanks['sentences']:\n",
        "  child=et.Element(\"li\")\n",
        "  child.text = sentence\n",
        "  sentences.append(child)\n",
        "  sentences.append(et.Element(\"br\"))\n",
        "\n",
        "heading_content = et.Element(\"h4\")\n",
        "\n",
        "root.append(heading)\n",
        "heading_content.append(keywords)\n",
        "heading_content.append(sentences)\n",
        "root.append(heading_content)\n",
        "\n",
        "xmlstr = et.tostring(root)\n",
        "xmlstr = xmlstr.decode(\"utf-8\") \n",
        "display(HTML(xmlstr))"
      ],
      "execution_count": 9,
      "outputs": [
        {
          "output_type": "display_data",
          "data": {
            "text/html": [
              "<div><h2>Fill in the blanks for these sentences with matching words at the top</h2><h4><ul style=\"color:blue;\"><li>subduction zone</li><li>forming rock</li><li>erupts</li><li>continental crust</li><li>divergent plate boundaries</li><li>ocean crust</li><li>crust</li><li>runs</li><li>molten rock</li><li>many undersea volcanoes</li></ul><ol style=\"color:brown;\"><li>There is a lot of volcanic activity at _______ in the oceans.</li><br /><li>For example, _______ are found along the Mid-Atlantic Ridge.</li><br /><li>As tectonic plates pull away from each other at a divergent plate boundary, they create deep fissures, or cracks, in the _______.</li><br /><li>_______, called magma, erupts through these cracks onto Earth&#8217;s surface.</li><br /><li>It cools and hardens, _______.</li><br /><li>Many volcanoes form along convergent plate boundaries where one tectonic plate is pulled down beneath another at a _______.</li><br /><li>The leading edge of the plate melts as it is pulled into the mantle, forming magma that _______ as volcanoes.</li><br /><li>Divergent plate boundaries also occur in the _______.</li><br /><li>Volcanoes form at these boundaries, but less often than in _______.</li><br /><li>This is a divergent plate boundary that _______ north-south through the middle of the Atlantic Ocean.</li><br /></ol></h4></div>"
            ],
            "text/plain": [
              "<IPython.core.display.HTML object>"
            ]
          },
          "metadata": {
            "tags": []
          }
        }
      ]
    },
    {
      "cell_type": "code",
      "metadata": {
        "id": "A7Q5AvX1NkmY"
      },
      "source": [
        ""
      ],
      "execution_count": null,
      "outputs": []
    }
  ]
}